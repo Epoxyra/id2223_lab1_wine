{
 "cells": [
  {
   "cell_type": "code",
   "execution_count": 92,
   "id": "063d9a22",
   "metadata": {
    "ExecuteTime": {
     "end_time": "2023-11-16T20:00:57.031374900Z",
     "start_time": "2023-11-16T20:00:54.584918700Z"
    }
   },
   "outputs": [],
   "source": [
    "import hopsworks\n",
    "import pandas as pd\n",
    "from sklearn.metrics import roc_auc_score\n",
    "from sklearn.preprocessing import MinMaxScaler\n",
    "from sklearn.neighbors import KNeighborsClassifier\n",
    "from sklearn.svm import SVC\n",
    "from sklearn.linear_model import LogisticRegression\n",
    "from sklearn.metrics import accuracy_score\n",
    "from sklearn.metrics import confusion_matrix\n",
    "from sklearn.metrics import classification_report\n",
    "import seaborn as sns\n",
    "from matplotlib import pyplot\n",
    "from hsml.schema import Schema\n",
    "from hsml.model_schema import ModelSchema\n",
    "import joblib\n",
    "import os\n",
    "#os.environ['HOPSWORKS_API_KEY'] = 'cKV1tKzokpcwviY6.uP2qcFV2wWI8xxNu1I0UxyeqlRHqSEanLgKFjf5R1ypSy8A3AUnRkRpi0R9Gc5l0'"
   ]
  },
  {
   "cell_type": "code",
   "execution_count": 93,
   "id": "5ce90341",
   "metadata": {
    "ExecuteTime": {
     "end_time": "2023-11-16T20:02:00.880322Z",
     "start_time": "2023-11-16T20:01:59.377354600Z"
    }
   },
   "outputs": [
    {
     "name": "stdout",
     "output_type": "stream",
     "text": [
      "Connection closed.\n",
      "Connected. Call `.close()` to terminate connection gracefully.\n",
      "\n",
      "Logged in to project, explore it here https://c.app.hopsworks.ai:443/p/195738\n",
      "Connected. Call `.close()` to terminate connection gracefully.\n"
     ]
    }
   ],
   "source": [
    "# You have to set the environment variable 'HOPSWORKS_API_KEY' for login to succeed\n",
    "project = hopsworks.login()\n",
    "fs = project.get_feature_store()"
   ]
  },
  {
   "cell_type": "code",
   "execution_count": 95,
   "id": "359ed7b3",
   "metadata": {
    "ExecuteTime": {
     "end_time": "2023-11-17T07:15:43.420182400Z",
     "start_time": "2023-11-17T07:15:42.716592800Z"
    },
    "scrolled": true
   },
   "outputs": [
    {
     "name": "stdout",
     "output_type": "stream",
     "text": [
      "Feature view created successfully, explore it at \n",
      "https://c.app.hopsworks.ai:443/p/195738/fs/195657/fv/wine/version/2\n"
     ]
    }
   ],
   "source": [
    "# The feature view is the input set of features for your model. The features can come from different feature groups.    \n",
    "# You can select features from different feature groups and join them together to create a feature view\n",
    "wine_fg = fs.get_feature_group(name=\"wine\", version=2)\n",
    "query = wine_fg.select_all()\n",
    "feature_view = fs.get_or_create_feature_view(name=\"wine\",\n",
    "                                  version=2,\n",
    "                                  description=\"Read from wine quality dataset\",\n",
    "                                  labels=[\"quality_label\"],\n",
    "                                  query=query)"
   ]
  },
  {
   "cell_type": "code",
   "execution_count": 120,
   "id": "42fbcfd3",
   "metadata": {},
   "outputs": [
    {
     "name": "stdout",
     "output_type": "stream",
     "text": [
      "Finished: Reading data from Hopsworks, using ArrowFlight (1.59s) \n"
     ]
    },
    {
     "name": "stderr",
     "output_type": "stream",
     "text": [
      "VersionWarning: Incremented version to `9`.\n"
     ]
    }
   ],
   "source": [
    "# You can read training data, randomly split into train/test sets of features (X) and labels (y)        \n",
    "X_train, X_test, y_train, y_test = feature_view.train_test_split(0.2)"
   ]
  },
  {
   "cell_type": "code",
   "execution_count": 121,
   "id": "78142fce",
   "metadata": {},
   "outputs": [
    {
     "data": {
      "text/html": [
       "<div>\n",
       "<style scoped>\n",
       "    .dataframe tbody tr th:only-of-type {\n",
       "        vertical-align: middle;\n",
       "    }\n",
       "\n",
       "    .dataframe tbody tr th {\n",
       "        vertical-align: top;\n",
       "    }\n",
       "\n",
       "    .dataframe thead th {\n",
       "        text-align: right;\n",
       "    }\n",
       "</style>\n",
       "<table border=\"1\" class=\"dataframe\">\n",
       "  <thead>\n",
       "    <tr style=\"text-align: right;\">\n",
       "      <th></th>\n",
       "      <th>type</th>\n",
       "      <th>fixed_acidity</th>\n",
       "      <th>volatile_acidity</th>\n",
       "      <th>citric_acid</th>\n",
       "      <th>residual_sugar</th>\n",
       "      <th>chlorides</th>\n",
       "      <th>free_sulfur_dioxide</th>\n",
       "      <th>density</th>\n",
       "      <th>ph</th>\n",
       "      <th>sulphates</th>\n",
       "      <th>alcohol</th>\n",
       "    </tr>\n",
       "  </thead>\n",
       "  <tbody>\n",
       "    <tr>\n",
       "      <th>0</th>\n",
       "      <td>1</td>\n",
       "      <td>7.0</td>\n",
       "      <td>0.16</td>\n",
       "      <td>0.26</td>\n",
       "      <td>7.3</td>\n",
       "      <td>0.047</td>\n",
       "      <td>30.0</td>\n",
       "      <td>0.99622</td>\n",
       "      <td>3.38</td>\n",
       "      <td>0.58</td>\n",
       "      <td>10.1</td>\n",
       "    </tr>\n",
       "    <tr>\n",
       "      <th>1</th>\n",
       "      <td>0</td>\n",
       "      <td>7.0</td>\n",
       "      <td>0.51</td>\n",
       "      <td>0.09</td>\n",
       "      <td>2.1</td>\n",
       "      <td>0.062</td>\n",
       "      <td>4.0</td>\n",
       "      <td>0.99584</td>\n",
       "      <td>3.35</td>\n",
       "      <td>0.54</td>\n",
       "      <td>10.5</td>\n",
       "    </tr>\n",
       "    <tr>\n",
       "      <th>3</th>\n",
       "      <td>1</td>\n",
       "      <td>6.6</td>\n",
       "      <td>0.34</td>\n",
       "      <td>0.25</td>\n",
       "      <td>4.8</td>\n",
       "      <td>0.038</td>\n",
       "      <td>16.0</td>\n",
       "      <td>0.99198</td>\n",
       "      <td>3.36</td>\n",
       "      <td>0.71</td>\n",
       "      <td>12.6</td>\n",
       "    </tr>\n",
       "    <tr>\n",
       "      <th>4</th>\n",
       "      <td>1</td>\n",
       "      <td>6.8</td>\n",
       "      <td>0.28</td>\n",
       "      <td>0.36</td>\n",
       "      <td>8.0</td>\n",
       "      <td>0.045</td>\n",
       "      <td>28.0</td>\n",
       "      <td>0.99280</td>\n",
       "      <td>3.02</td>\n",
       "      <td>0.37</td>\n",
       "      <td>11.4</td>\n",
       "    </tr>\n",
       "    <tr>\n",
       "      <th>6</th>\n",
       "      <td>1</td>\n",
       "      <td>7.1</td>\n",
       "      <td>0.31</td>\n",
       "      <td>0.38</td>\n",
       "      <td>1.2</td>\n",
       "      <td>0.036</td>\n",
       "      <td>10.0</td>\n",
       "      <td>0.99240</td>\n",
       "      <td>3.14</td>\n",
       "      <td>0.44</td>\n",
       "      <td>9.9</td>\n",
       "    </tr>\n",
       "    <tr>\n",
       "      <th>...</th>\n",
       "      <td>...</td>\n",
       "      <td>...</td>\n",
       "      <td>...</td>\n",
       "      <td>...</td>\n",
       "      <td>...</td>\n",
       "      <td>...</td>\n",
       "      <td>...</td>\n",
       "      <td>...</td>\n",
       "      <td>...</td>\n",
       "      <td>...</td>\n",
       "      <td>...</td>\n",
       "    </tr>\n",
       "    <tr>\n",
       "      <th>5317</th>\n",
       "      <td>1</td>\n",
       "      <td>9.2</td>\n",
       "      <td>0.27</td>\n",
       "      <td>0.34</td>\n",
       "      <td>10.5</td>\n",
       "      <td>0.043</td>\n",
       "      <td>49.0</td>\n",
       "      <td>0.99740</td>\n",
       "      <td>3.04</td>\n",
       "      <td>0.41</td>\n",
       "      <td>10.4</td>\n",
       "    </tr>\n",
       "    <tr>\n",
       "      <th>5318</th>\n",
       "      <td>1</td>\n",
       "      <td>5.9</td>\n",
       "      <td>0.18</td>\n",
       "      <td>0.28</td>\n",
       "      <td>5.1</td>\n",
       "      <td>0.039</td>\n",
       "      <td>50.0</td>\n",
       "      <td>0.99165</td>\n",
       "      <td>3.16</td>\n",
       "      <td>0.44</td>\n",
       "      <td>11.3</td>\n",
       "    </tr>\n",
       "    <tr>\n",
       "      <th>5319</th>\n",
       "      <td>1</td>\n",
       "      <td>5.8</td>\n",
       "      <td>0.40</td>\n",
       "      <td>0.42</td>\n",
       "      <td>4.4</td>\n",
       "      <td>0.047</td>\n",
       "      <td>38.5</td>\n",
       "      <td>0.99370</td>\n",
       "      <td>3.25</td>\n",
       "      <td>0.57</td>\n",
       "      <td>9.6</td>\n",
       "    </tr>\n",
       "    <tr>\n",
       "      <th>5320</th>\n",
       "      <td>1</td>\n",
       "      <td>6.0</td>\n",
       "      <td>0.19</td>\n",
       "      <td>0.29</td>\n",
       "      <td>1.2</td>\n",
       "      <td>0.046</td>\n",
       "      <td>29.0</td>\n",
       "      <td>0.99033</td>\n",
       "      <td>3.22</td>\n",
       "      <td>0.53</td>\n",
       "      <td>11.3</td>\n",
       "    </tr>\n",
       "    <tr>\n",
       "      <th>5321</th>\n",
       "      <td>0</td>\n",
       "      <td>8.6</td>\n",
       "      <td>0.63</td>\n",
       "      <td>0.17</td>\n",
       "      <td>2.9</td>\n",
       "      <td>0.099</td>\n",
       "      <td>21.0</td>\n",
       "      <td>0.99800</td>\n",
       "      <td>3.09</td>\n",
       "      <td>0.52</td>\n",
       "      <td>9.3</td>\n",
       "    </tr>\n",
       "  </tbody>\n",
       "</table>\n",
       "<p>4257 rows × 11 columns</p>\n",
       "</div>"
      ],
      "text/plain": [
       "      type  fixed_acidity  volatile_acidity  citric_acid  residual_sugar  \\\n",
       "0        1            7.0              0.16         0.26             7.3   \n",
       "1        0            7.0              0.51         0.09             2.1   \n",
       "3        1            6.6              0.34         0.25             4.8   \n",
       "4        1            6.8              0.28         0.36             8.0   \n",
       "6        1            7.1              0.31         0.38             1.2   \n",
       "...    ...            ...               ...          ...             ...   \n",
       "5317     1            9.2              0.27         0.34            10.5   \n",
       "5318     1            5.9              0.18         0.28             5.1   \n",
       "5319     1            5.8              0.40         0.42             4.4   \n",
       "5320     1            6.0              0.19         0.29             1.2   \n",
       "5321     0            8.6              0.63         0.17             2.9   \n",
       "\n",
       "      chlorides  free_sulfur_dioxide  density    ph  sulphates  alcohol  \n",
       "0         0.047                 30.0  0.99622  3.38       0.58     10.1  \n",
       "1         0.062                  4.0  0.99584  3.35       0.54     10.5  \n",
       "3         0.038                 16.0  0.99198  3.36       0.71     12.6  \n",
       "4         0.045                 28.0  0.99280  3.02       0.37     11.4  \n",
       "6         0.036                 10.0  0.99240  3.14       0.44      9.9  \n",
       "...         ...                  ...      ...   ...        ...      ...  \n",
       "5317      0.043                 49.0  0.99740  3.04       0.41     10.4  \n",
       "5318      0.039                 50.0  0.99165  3.16       0.44     11.3  \n",
       "5319      0.047                 38.5  0.99370  3.25       0.57      9.6  \n",
       "5320      0.046                 29.0  0.99033  3.22       0.53     11.3  \n",
       "5321      0.099                 21.0  0.99800  3.09       0.52      9.3  \n",
       "\n",
       "[4257 rows x 11 columns]"
      ]
     },
     "execution_count": 121,
     "metadata": {},
     "output_type": "execute_result"
    }
   ],
   "source": [
    "X_train"
   ]
  },
  {
   "cell_type": "code",
   "execution_count": 122,
   "id": "7c8f56c4",
   "metadata": {},
   "outputs": [
    {
     "data": {
      "text/html": [
       "<div>\n",
       "<style scoped>\n",
       "    .dataframe tbody tr th:only-of-type {\n",
       "        vertical-align: middle;\n",
       "    }\n",
       "\n",
       "    .dataframe tbody tr th {\n",
       "        vertical-align: top;\n",
       "    }\n",
       "\n",
       "    .dataframe thead th {\n",
       "        text-align: right;\n",
       "    }\n",
       "</style>\n",
       "<table border=\"1\" class=\"dataframe\">\n",
       "  <thead>\n",
       "    <tr style=\"text-align: right;\">\n",
       "      <th></th>\n",
       "      <th>quality_label</th>\n",
       "    </tr>\n",
       "  </thead>\n",
       "  <tbody>\n",
       "    <tr>\n",
       "      <th>0</th>\n",
       "      <td>medium</td>\n",
       "    </tr>\n",
       "    <tr>\n",
       "      <th>1</th>\n",
       "      <td>medium</td>\n",
       "    </tr>\n",
       "    <tr>\n",
       "      <th>3</th>\n",
       "      <td>medium</td>\n",
       "    </tr>\n",
       "    <tr>\n",
       "      <th>4</th>\n",
       "      <td>medium</td>\n",
       "    </tr>\n",
       "    <tr>\n",
       "      <th>6</th>\n",
       "      <td>medium</td>\n",
       "    </tr>\n",
       "    <tr>\n",
       "      <th>...</th>\n",
       "      <td>...</td>\n",
       "    </tr>\n",
       "    <tr>\n",
       "      <th>5317</th>\n",
       "      <td>medium</td>\n",
       "    </tr>\n",
       "    <tr>\n",
       "      <th>5318</th>\n",
       "      <td>medium</td>\n",
       "    </tr>\n",
       "    <tr>\n",
       "      <th>5319</th>\n",
       "      <td>medium</td>\n",
       "    </tr>\n",
       "    <tr>\n",
       "      <th>5320</th>\n",
       "      <td>medium</td>\n",
       "    </tr>\n",
       "    <tr>\n",
       "      <th>5321</th>\n",
       "      <td>medium</td>\n",
       "    </tr>\n",
       "  </tbody>\n",
       "</table>\n",
       "<p>4257 rows × 1 columns</p>\n",
       "</div>"
      ],
      "text/plain": [
       "     quality_label\n",
       "0           medium\n",
       "1           medium\n",
       "3           medium\n",
       "4           medium\n",
       "6           medium\n",
       "...            ...\n",
       "5317        medium\n",
       "5318        medium\n",
       "5319        medium\n",
       "5320        medium\n",
       "5321        medium\n",
       "\n",
       "[4257 rows x 1 columns]"
      ]
     },
     "execution_count": 122,
     "metadata": {},
     "output_type": "execute_result"
    }
   ],
   "source": [
    "y_train"
   ]
  },
  {
   "cell_type": "code",
   "execution_count": 123,
   "id": "77aa0aee",
   "metadata": {},
   "outputs": [
    {
     "name": "stdout",
     "output_type": "stream",
     "text": [
      "K = 2\n",
      "K = 4\n",
      "K = 6\n",
      "K = 8\n",
      "K = 10\n",
      "Training accuracy: f[0.8520084566596194, 0.8235846840498003, 0.8087855297157622, 0.8071411792342025, 0.8071411792342025]\n",
      "Testing accuracy: f[0.6732394366197183, 0.7192488262910798, 0.7502347417840376, 0.7530516431924883, 0.7680751173708921]\n"
     ]
    }
   ],
   "source": [
    "# Train our model with the Scikit-learn K-nearest-neighbors algorithm using our features (X_train) and labels (y_train)\n",
    "# We iterate over different values of K to find the best performing model\n",
    "k_neighbors = range(2 , 11 , 2)\n",
    "Training_acc = []\n",
    "Testing_acc = []\n",
    "\n",
    "for i in k_neighbors:\n",
    "    print(f'K = {i}')\n",
    "    model = KNeighborsClassifier(n_neighbors= i)\n",
    "    model.fit(X_train , y_train.values.ravel())\n",
    "    Training_acc.append(model.score(X_train , y_train))\n",
    "    Testing_acc.append(model.score(X_test , y_test))\n",
    "    \n",
    "print(f'Training accuracy: f{Training_acc}')\n",
    "print(f'Testing accuracy: f{Testing_acc}')"
   ]
  },
  {
   "cell_type": "markdown",
   "metadata": {},
   "source": [
    "As we can see by the displyed accuracies, k=10 is the best value for k"
   ]
  },
  {
   "cell_type": "code",
   "execution_count": 126,
   "metadata": {},
   "outputs": [],
   "source": [
    "model = KNeighborsClassifier(n_neighbors=10)\n",
    "model.fit(X_train, y_train.values.ravel())\n",
    "\n",
    "# Evaluate model performance using the features from the test set (X_test)\n",
    "y_pred = model.predict(X_test)\n",
    "\n",
    "# Compare predictions (y_pred) with the labels in the test set (y_test)\n",
    "metrics = classification_report(y_test, y_pred, output_dict=True)\n",
    "results = confusion_matrix(y_test, y_pred)"
   ]
  },
  {
   "cell_type": "code",
   "execution_count": 130,
   "id": "dd3dddab",
   "metadata": {
    "scrolled": true
   },
   "outputs": [
    {
     "name": "stdout",
     "output_type": "stream",
     "text": [
      "{'good': {'precision': 0.532258064516129, 'recall': 0.3235294117647059, 'f1-score': 0.402439024390244, 'support': 204}, 'medium': {'precision': 0.7995735607675906, 'recall': 0.927070457354759, 'f1-score': 0.8586147681740125, 'support': 809}, 'poor': {'precision': 0.6666666666666666, 'recall': 0.038461538461538464, 'f1-score': 0.07272727272727274, 'support': 52}, 'accuracy': 0.7680751173708921, 'macro avg': {'precision': 0.6661660973167954, 'recall': 0.42968713586033447, 'f1-score': 0.4445936884305097, 'support': 1065}, 'weighted avg': {'precision': 0.741880115013087, 'recall': 0.7680751173708921, 'f1-score': 0.7328626540940882, 'support': 1065}}\n"
     ]
    }
   ],
   "source": [
    "print(metrics)"
   ]
  },
  {
   "cell_type": "code",
   "execution_count": 131,
   "id": "4d944032",
   "metadata": {},
   "outputs": [
    {
     "data": {
      "image/png": "[encoded data removed]",
      "text/plain": [
       "<Figure size 640x480 with 2 Axes>"
      ]
     },
     "metadata": {},
     "output_type": "display_data"
    }
   ],
   "source": [
    "# Create the confusion matrix as a figure, we will later store it as a PNG image file\n",
    "df_cm = pd.DataFrame(results, ['True Good Wine', 'True Medium Wine', 'True Poor Wine'],\n",
    "                     ['Pred Good Wine', 'Pred Medium Wine', 'Pred Poor Wine'])\n",
    "cm = sns.heatmap(df_cm, annot=True)\n",
    "fig = cm.get_figure()"
   ]
  },
  {
   "cell_type": "code",
   "execution_count": 132,
   "id": "bcfdfc4f",
   "metadata": {
    "scrolled": true
   },
   "outputs": [
    {
     "name": "stdout",
     "output_type": "stream",
     "text": [
      "Connected. Call `.close()` to terminate connection gracefully.\n"
     ]
    },
    {
     "name": "stderr",
     "output_type": "stream",
     "text": [
      "Uploading: 100.000%|██████████| 872534/872534 elapsed<00:04 remaining<00:00  2.40it/s]\n",
      "Uploading: 100.000%|██████████| 25694/25694 elapsed<00:01 remaining<00:002,  2.40it/s]\n",
      "Uploading: 100.000%|██████████| 990/990 elapsed<00:01 remaining<00:00<00:16,  4.17s/it]\n",
      "Model export complete: 100%|██████████| 6/6 [00:14<00:00,  2.43s/it]                   "
     ]
    },
    {
     "name": "stdout",
     "output_type": "stream",
     "text": [
      "Model created, explore it at https://c.app.hopsworks.ai:443/p/195738/models/wine_model/1\n"
     ]
    },
    {
     "name": "stderr",
     "output_type": "stream",
     "text": [
      "\n"
     ]
    },
    {
     "data": {
      "text/plain": [
       "Model(name: 'wine_model', version: 1)"
      ]
     },
     "execution_count": 132,
     "metadata": {},
     "output_type": "execute_result"
    }
   ],
   "source": [
    "# We will now upload our model to the Hopsworks Model Registry. First get an object for the model registry.\n",
    "mr = project.get_model_registry()\n",
    "\n",
    "# The contents of the 'iris_model' directory will be saved to the model registry. Create the dir, first.\n",
    "model_dir=\"wine_model\"\n",
    "if os.path.isdir(model_dir) == False:\n",
    "    os.mkdir(model_dir)\n",
    "\n",
    "# Save both our model and the confusion matrix to 'model_dir', whose contents will be uploaded to the model registry\n",
    "joblib.dump(model, model_dir + \"/wine_model.pkl\")\n",
    "fig.savefig(model_dir + \"/confusion_matrix.png\")    \n",
    "\n",
    "# Specify the schema of the model's input/output using the features (X_train) and labels (y_train)\n",
    "input_schema = Schema(X_train)\n",
    "output_schema = Schema(y_train)\n",
    "model_schema = ModelSchema(input_schema, output_schema)\n",
    "\n",
    "# Create an entry in the model registry that includes the model's name, desc, metrics\n",
    "wine_model = mr.python.create_model(\n",
    "    name=\"wine_model\", \n",
    "    metrics={\"accuracy\" : metrics['accuracy']},\n",
    "    model_schema=model_schema,\n",
    "    description=\"Wine Quality Predictor\"\n",
    ")\n",
    "\n",
    "# Upload the model to the model registry, including all files in 'model_dir'\n",
    "wine_model.save(model_dir)"
   ]
  }
 ],
 "metadata": {
  "kernelspec": {
   "display_name": "Python 3 (ipykernel)",
   "language": "python",
   "name": "python3"
  },
  "language_info": {
   "codemirror_mode": {
    "name": "ipython",
    "version": 3
   },
   "file_extension": ".py",
   "mimetype": "text/x-python",
   "name": "python",
   "nbconvert_exporter": "python",
   "pygments_lexer": "ipython3",
   "version": "3.10.13"
  }
 },
 "nbformat": 4,
 "nbformat_minor": 5
}
